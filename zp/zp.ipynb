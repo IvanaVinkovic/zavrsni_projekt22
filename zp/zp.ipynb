{
 "cells": [
  {
   "cell_type": "code",
   "execution_count": 6,
   "metadata": {},
   "outputs": [],
   "source": [
    "import plotly.graph_objects as go\n",
    "import numpy as np\n",
    "\n",
    "# Function to generate spheres\n",
    "def generate_spheres(n):\n",
    "    phi = np.random.uniform(0, 2 * np.pi, n)\n",
    "    theta = np.random.uniform(0, np.pi, n)\n",
    "    x = np.sin(theta) * np.cos(phi)\n",
    "    y = np.sin(theta) * np.sin(phi)\n",
    "    z = np.cos(theta)\n",
    "    return np.vstack((x, y, z)).T\n",
    "\n",
    "n = 300\n",
    "\n",
    "# Generate three sets of spheres\n",
    "K1 = generate_spheres(n)\n",
    "K2 = generate_spheres(n) + 2\n",
    "K3 = generate_spheres(n) + 4\n",
    "\n",
    "# Create the Plotly figure\n",
    "fig = go.Figure()\n",
    "\n",
    "# Add spheres to the figure\n",
    "fig.add_trace(go.Scatter3d(\n",
    "    x=K1[:, 0], y=K1[:, 1], z=K1[:, 2],\n",
    "    mode='markers',\n",
    "    marker=dict(size=3, color='blue'),\n",
    "    name='K1'\n",
    "))\n",
    "\n",
    "fig.add_trace(go.Scatter3d(\n",
    "    x=K2[:, 0], y=K2[:, 1], z=K2[:, 2],\n",
    "    mode='markers',\n",
    "    marker=dict(size=3, color='green'),\n",
    "    name='K2'\n",
    "))\n",
    "\n",
    "fig.add_trace(go.Scatter3d(\n",
    "    x=K3[:, 0], y=K3[:, 1], z=K3[:, 2],\n",
    "    mode='markers',\n",
    "    marker=dict(size=3, color='red'),\n",
    "    name='K3'\n",
    "))\n",
    "\n",
    "# Update layout\n",
    "fig.update_layout(\n",
    "    title='Interactive 3D Spheres',\n",
    "    scene=dict(\n",
    "        xaxis_title='X',\n",
    "        yaxis_title='Y',\n",
    "        zaxis_title='Z'\n",
    "    )\n",
    ")\n",
    "\n",
    "# Save the plot as an HTML file\n",
    "fig.write_html('static/three_spheres_plot.html')\n"
   ]
  },
  {
   "cell_type": "code",
   "execution_count": null,
   "metadata": {},
   "outputs": [],
   "source": []
  }
 ],
 "metadata": {
  "kernelspec": {
   "display_name": "base",
   "language": "python",
   "name": "python3"
  },
  "language_info": {
   "codemirror_mode": {
    "name": "ipython",
    "version": 3
   },
   "file_extension": ".py",
   "mimetype": "text/x-python",
   "name": "python",
   "nbconvert_exporter": "python",
   "pygments_lexer": "ipython3",
   "version": "3.12.4"
  }
 },
 "nbformat": 4,
 "nbformat_minor": 2
}

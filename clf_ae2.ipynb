{
 "cells": [
  {
   "cell_type": "markdown",
   "metadata": {},
   "source": [
    "# Klasifikacija podataka"
   ]
  },
  {
   "cell_type": "code",
   "execution_count": 74,
   "metadata": {},
   "outputs": [],
   "source": [
    "import pandas as pd\n",
    "from sklearn.model_selection import train_test_split\n",
    "from sklearn.metrics import accuracy_score, precision_score\n",
    "from sklearn.preprocessing import StandardScaler\n",
    "from sklearn.ensemble import RandomForestClassifier"
   ]
  },
  {
   "cell_type": "code",
   "execution_count": 75,
   "metadata": {},
   "outputs": [
    {
     "data": {
      "text/html": [
       "<div>\n",
       "<style scoped>\n",
       "    .dataframe tbody tr th:only-of-type {\n",
       "        vertical-align: middle;\n",
       "    }\n",
       "\n",
       "    .dataframe tbody tr th {\n",
       "        vertical-align: top;\n",
       "    }\n",
       "\n",
       "    .dataframe thead th {\n",
       "        text-align: right;\n",
       "    }\n",
       "</style>\n",
       "<table border=\"1\" class=\"dataframe\">\n",
       "  <thead>\n",
       "    <tr style=\"text-align: right;\">\n",
       "      <th></th>\n",
       "      <th>Pregnancies</th>\n",
       "      <th>Glucose</th>\n",
       "      <th>BloodPressure</th>\n",
       "      <th>SkinThickness</th>\n",
       "      <th>Insulin</th>\n",
       "      <th>BMI</th>\n",
       "      <th>DiabetesPedigreeFunction</th>\n",
       "      <th>Age</th>\n",
       "      <th>Outcome</th>\n",
       "    </tr>\n",
       "  </thead>\n",
       "  <tbody>\n",
       "    <tr>\n",
       "      <th>0</th>\n",
       "      <td>6</td>\n",
       "      <td>148</td>\n",
       "      <td>72</td>\n",
       "      <td>35</td>\n",
       "      <td>0</td>\n",
       "      <td>33.6</td>\n",
       "      <td>0.627</td>\n",
       "      <td>50</td>\n",
       "      <td>1</td>\n",
       "    </tr>\n",
       "    <tr>\n",
       "      <th>1</th>\n",
       "      <td>1</td>\n",
       "      <td>85</td>\n",
       "      <td>66</td>\n",
       "      <td>29</td>\n",
       "      <td>0</td>\n",
       "      <td>26.6</td>\n",
       "      <td>0.351</td>\n",
       "      <td>31</td>\n",
       "      <td>0</td>\n",
       "    </tr>\n",
       "    <tr>\n",
       "      <th>2</th>\n",
       "      <td>8</td>\n",
       "      <td>183</td>\n",
       "      <td>64</td>\n",
       "      <td>0</td>\n",
       "      <td>0</td>\n",
       "      <td>23.3</td>\n",
       "      <td>0.672</td>\n",
       "      <td>32</td>\n",
       "      <td>1</td>\n",
       "    </tr>\n",
       "    <tr>\n",
       "      <th>3</th>\n",
       "      <td>1</td>\n",
       "      <td>89</td>\n",
       "      <td>66</td>\n",
       "      <td>23</td>\n",
       "      <td>94</td>\n",
       "      <td>28.1</td>\n",
       "      <td>0.167</td>\n",
       "      <td>21</td>\n",
       "      <td>0</td>\n",
       "    </tr>\n",
       "    <tr>\n",
       "      <th>4</th>\n",
       "      <td>0</td>\n",
       "      <td>137</td>\n",
       "      <td>40</td>\n",
       "      <td>35</td>\n",
       "      <td>168</td>\n",
       "      <td>43.1</td>\n",
       "      <td>2.288</td>\n",
       "      <td>33</td>\n",
       "      <td>1</td>\n",
       "    </tr>\n",
       "    <tr>\n",
       "      <th>...</th>\n",
       "      <td>...</td>\n",
       "      <td>...</td>\n",
       "      <td>...</td>\n",
       "      <td>...</td>\n",
       "      <td>...</td>\n",
       "      <td>...</td>\n",
       "      <td>...</td>\n",
       "      <td>...</td>\n",
       "      <td>...</td>\n",
       "    </tr>\n",
       "    <tr>\n",
       "      <th>763</th>\n",
       "      <td>10</td>\n",
       "      <td>101</td>\n",
       "      <td>76</td>\n",
       "      <td>48</td>\n",
       "      <td>180</td>\n",
       "      <td>32.9</td>\n",
       "      <td>0.171</td>\n",
       "      <td>63</td>\n",
       "      <td>0</td>\n",
       "    </tr>\n",
       "    <tr>\n",
       "      <th>764</th>\n",
       "      <td>2</td>\n",
       "      <td>122</td>\n",
       "      <td>70</td>\n",
       "      <td>27</td>\n",
       "      <td>0</td>\n",
       "      <td>36.8</td>\n",
       "      <td>0.340</td>\n",
       "      <td>27</td>\n",
       "      <td>0</td>\n",
       "    </tr>\n",
       "    <tr>\n",
       "      <th>765</th>\n",
       "      <td>5</td>\n",
       "      <td>121</td>\n",
       "      <td>72</td>\n",
       "      <td>23</td>\n",
       "      <td>112</td>\n",
       "      <td>26.2</td>\n",
       "      <td>0.245</td>\n",
       "      <td>30</td>\n",
       "      <td>0</td>\n",
       "    </tr>\n",
       "    <tr>\n",
       "      <th>766</th>\n",
       "      <td>1</td>\n",
       "      <td>126</td>\n",
       "      <td>60</td>\n",
       "      <td>0</td>\n",
       "      <td>0</td>\n",
       "      <td>30.1</td>\n",
       "      <td>0.349</td>\n",
       "      <td>47</td>\n",
       "      <td>1</td>\n",
       "    </tr>\n",
       "    <tr>\n",
       "      <th>767</th>\n",
       "      <td>1</td>\n",
       "      <td>93</td>\n",
       "      <td>70</td>\n",
       "      <td>31</td>\n",
       "      <td>0</td>\n",
       "      <td>30.4</td>\n",
       "      <td>0.315</td>\n",
       "      <td>23</td>\n",
       "      <td>0</td>\n",
       "    </tr>\n",
       "  </tbody>\n",
       "</table>\n",
       "<p>768 rows × 9 columns</p>\n",
       "</div>"
      ],
      "text/plain": [
       "     Pregnancies  Glucose  BloodPressure  SkinThickness  Insulin   BMI  \\\n",
       "0              6      148             72             35        0  33.6   \n",
       "1              1       85             66             29        0  26.6   \n",
       "2              8      183             64              0        0  23.3   \n",
       "3              1       89             66             23       94  28.1   \n",
       "4              0      137             40             35      168  43.1   \n",
       "..           ...      ...            ...            ...      ...   ...   \n",
       "763           10      101             76             48      180  32.9   \n",
       "764            2      122             70             27        0  36.8   \n",
       "765            5      121             72             23      112  26.2   \n",
       "766            1      126             60              0        0  30.1   \n",
       "767            1       93             70             31        0  30.4   \n",
       "\n",
       "     DiabetesPedigreeFunction  Age  Outcome  \n",
       "0                       0.627   50        1  \n",
       "1                       0.351   31        0  \n",
       "2                       0.672   32        1  \n",
       "3                       0.167   21        0  \n",
       "4                       2.288   33        1  \n",
       "..                        ...  ...      ...  \n",
       "763                     0.171   63        0  \n",
       "764                     0.340   27        0  \n",
       "765                     0.245   30        0  \n",
       "766                     0.349   47        1  \n",
       "767                     0.315   23        0  \n",
       "\n",
       "[768 rows x 9 columns]"
      ]
     },
     "execution_count": 75,
     "metadata": {},
     "output_type": "execute_result"
    }
   ],
   "source": [
    "# Učitavanje podataka\n",
    "data_diab = pd.read_csv('diabetes.csv')\n",
    "\n",
    "data_diab"
   ]
  },
  {
   "cell_type": "code",
   "execution_count": 76,
   "metadata": {},
   "outputs": [],
   "source": [
    "# feature i target\n",
    "x = data_diab.drop('Outcome', axis = 1)\n",
    "y = data_diab['Outcome']"
   ]
  },
  {
   "cell_type": "code",
   "execution_count": 99,
   "metadata": {},
   "outputs": [],
   "source": [
    "# podjela na train i test \n",
    "X_train, X_test, y_train, y_test = train_test_split(x, y, test_size = 0.2, random_state = 0)"
   ]
  },
  {
   "cell_type": "code",
   "execution_count": 100,
   "metadata": {},
   "outputs": [],
   "source": [
    "# skaliranje podataka\n",
    "X_train_sc = StandardScaler().fit_transform(X_train)\n",
    "X_test_sc = StandardScaler().fit_transform(X_test)"
   ]
  },
  {
   "cell_type": "code",
   "execution_count": 102,
   "metadata": {},
   "outputs": [
    {
     "name": "stdout",
     "output_type": "stream",
     "text": [
      "0.6666666666666666\n",
      "0.7987012987012987\n"
     ]
    }
   ],
   "source": [
    "# model RandomForestClassifier\n",
    "model = RandomForestClassifier()\n",
    "\n",
    "# treniranje modela\n",
    "model.fit(X_train_sc, y_train)\n",
    "\n",
    "y_pred = model.predict(X_test_sc)\n",
    "\n",
    "# precision i accuracy\n",
    "precision_og = precision_score(y_test, y_pred)\n",
    "accuracy_og = accuracy_score(y_test, y_pred)\n",
    "\n",
    "\n",
    "\n",
    "print(precision_og)\n",
    "print(accuracy_og)"
   ]
  },
  {
   "cell_type": "markdown",
   "metadata": {},
   "source": [
    "## PCA"
   ]
  },
  {
   "cell_type": "code",
   "execution_count": 80,
   "metadata": {},
   "outputs": [],
   "source": [
    "from sklearn.decomposition import PCA"
   ]
  },
  {
   "cell_type": "code",
   "execution_count": 81,
   "metadata": {},
   "outputs": [],
   "source": [
    "pca = PCA(n_components = 5)"
   ]
  },
  {
   "cell_type": "code",
   "execution_count": 107,
   "metadata": {},
   "outputs": [
    {
     "name": "stdout",
     "output_type": "stream",
     "text": [
      "precision: 60.9756%\n",
      "accuracy: 75.3247%\n"
     ]
    }
   ],
   "source": [
    "X_train_pca = pca.fit_transform(X_train)\n",
    "X_test_pca = pca.fit_transform(X_test)\n",
    "\n",
    "## treniranje modela u reduciranoj dimenziji\n",
    "model_pca = RandomForestClassifier(random_state = 42)\n",
    "model_pca.fit(X_train_pca, y_train)\n",
    "\n",
    "# precision i accuracy u reduciranoj dimenziji\n",
    "y_pred_pca = model_pca.predict(X_test_pca)\n",
    "precision_pca = precision_score(y_test, y_pred_pca)\n",
    "accuracy_pca = accuracy_score(y_test, y_pred_pca)\n",
    "\n",
    "print(f\"precision: {round(precision_pca*100,4)}%\")\n",
    "print(f\"accuracy: {round(accuracy_pca*100,4)}%\")"
   ]
  },
  {
   "cell_type": "markdown",
   "metadata": {},
   "source": [
    "## SVD"
   ]
  },
  {
   "cell_type": "code",
   "execution_count": 83,
   "metadata": {},
   "outputs": [],
   "source": [
    "from sklearn.decomposition import TruncatedSVD"
   ]
  },
  {
   "cell_type": "code",
   "execution_count": 84,
   "metadata": {},
   "outputs": [],
   "source": [
    "svd = TruncatedSVD(n_components = 5)"
   ]
  },
  {
   "cell_type": "code",
   "execution_count": 108,
   "metadata": {},
   "outputs": [
    {
     "name": "stdout",
     "output_type": "stream",
     "text": [
      "precision: 61.7647%\n",
      "accuracy: 79.8701%\n"
     ]
    }
   ],
   "source": [
    "X_train_svd = svd.fit_transform(X_train)\n",
    "X_test_svd = svd.fit_transform(X_test)\n",
    "\n",
    "# treniranje modela u reduciranoj dimenziji\n",
    "model_svd = RandomForestClassifier(random_state = 42)\n",
    "model_svd.fit(X_train_svd, y_train)\n",
    "\n",
    "# precision i accuracy u reduciranoj dimenzjii\n",
    "y_pred_svd = model_svd.predict(X_test_svd)\n",
    "precision_svd = precision_score(y_test, y_pred_svd)\n",
    "accuracy_svd = accuracy_score(y_test, y_pred)\n",
    "\n",
    "print(f\"precision: {round(precision_svd*100,4)}%\")\n",
    "print(f\"accuracy: {round(accuracy_svd*100,4)}%\")"
   ]
  },
  {
   "cell_type": "markdown",
   "metadata": {},
   "source": [
    "## Autoencoder"
   ]
  },
  {
   "cell_type": "code",
   "execution_count": null,
   "metadata": {},
   "outputs": [],
   "source": []
  },
  {
   "cell_type": "code",
   "execution_count": 86,
   "metadata": {},
   "outputs": [
    {
     "name": "stdout",
     "output_type": "stream",
     "text": [
      "Epoch 10/50, Loss: 1.1420\n",
      "Epoch 20/50, Loss: 0.9839\n",
      "Epoch 30/50, Loss: 0.8746\n",
      "Epoch 40/50, Loss: 0.8431\n",
      "Epoch 50/50, Loss: 0.8294\n",
      "Original Data - Precision: 0.7399764150943396\n",
      "Original Data - Accuracy: 0.7597402597402597\n",
      "Compressed Data - Precision: 0.6483494363929146\n",
      "Compressed Data - Accuracy: 0.6818181818181818\n"
     ]
    }
   ],
   "source": [
    "class Autoencoder(nn.Module):\n",
    "    def __init__(self):\n",
    "        super(Autoencoder, self).__init__()\n",
    "        self.encoder = nn.Sequential(\n",
    "            nn.Linear(X_train_sc.shape[1], 6),  # Smanjenje dimenzionalnosti\n",
    "            nn.ReLU(),\n",
    "            nn.Linear(6, 3)  # Latentni prostor\n",
    "        )\n",
    "        self.decoder = nn.Sequential(\n",
    "            nn.Linear(3, 6),\n",
    "            nn.ReLU(),\n",
    "            nn.Linear(6, X_train_sc.shape[1]),\n",
    "            nn.Sigmoid()  # Skaliranje izlaza između 0 i 1\n",
    "        )\n",
    "\n",
    "    def forward(self, x):\n",
    "        x = self.encoder(x)\n",
    "        x = self.decoder(x)\n",
    "        return x\n",
    "\n",
    "# Treniranje autoencodera\n",
    "autoencoder = Autoencoder()\n",
    "criterion = nn.MSELoss()\n",
    "optimizer = optim.Adam(autoencoder.parameters(), lr=0.01)\n",
    "\n",
    "n_epochs = 50\n",
    "X_train_tensor = torch.tensor(X_train_sc, dtype=torch.float32)\n",
    "\n",
    "for epoch in range(n_epochs):\n",
    "    autoencoder.train()\n",
    "    outputs = autoencoder(X_train_tensor)\n",
    "    loss = criterion(outputs, X_train_tensor)\n",
    "    \n",
    "    optimizer.zero_grad()\n",
    "    loss.backward()\n",
    "    optimizer.step()\n",
    "\n",
    "    if (epoch + 1) % 10 == 0:\n",
    "        print(f'Epoch {epoch+1}/{n_epochs}, Loss: {loss.item():.4f}')\n",
    "\n",
    "# Ekstrakcija značajki iz enkodera\n",
    "def extract_features(autoencoder, X_data):\n",
    "    autoencoder.eval()\n",
    "    with torch.no_grad():\n",
    "        X_data_tensor = torch.tensor(X_data, dtype=torch.float32)\n",
    "        encoded_data = autoencoder.encoder(X_data_tensor).numpy()\n",
    "    return encoded_data\n",
    "\n",
    "train_features = extract_features(autoencoder, X_train_sc)\n",
    "test_features = extract_features(autoencoder, X_test_sc)\n",
    "\n",
    "# Klasifikacija koristeći originalni skup podataka\n",
    "model_original = RandomForestClassifier(random_state=42)\n",
    "model_original.fit(X_train_sc, y_train)\n",
    "y_pred_original = model_original.predict(X_test_sc)\n",
    "\n",
    "precision_og = precision_score(y_test, y_pred_original, average='macro')\n",
    "accuracy_og = accuracy_score(y_test, y_pred_original)\n",
    "\n",
    "print(\"Original Data - Precision:\", precision_og)\n",
    "print(\"Original Data - Accuracy:\", accuracy_og)\n",
    "\n",
    "# Klasifikacija koristeći smanjeni skup podataka (latentni prostor)\n",
    "model_compressed = RandomForestClassifier(random_state=42)\n",
    "model_compressed.fit(train_features, y_train)\n",
    "y_pred_compressed = model_compressed.predict(test_features)\n",
    "\n",
    "precision_comp = precision_score(y_test, y_pred_compressed, average='macro')\n",
    "accuracy_comp = accuracy_score(y_test, y_pred_compressed)\n",
    "\n",
    "print(\"Compressed Data - Precision:\", precision_comp)\n",
    "print(\"Compressed Data - Accuracy:\", accuracy_comp)"
   ]
  },
  {
   "cell_type": "markdown",
   "metadata": {},
   "source": []
  }
 ],
 "metadata": {
  "kernelspec": {
   "display_name": "Python 3",
   "language": "python",
   "name": "python3"
  },
  "language_info": {
   "codemirror_mode": {
    "name": "ipython",
    "version": 3
   },
   "file_extension": ".py",
   "mimetype": "text/x-python",
   "name": "python",
   "nbconvert_exporter": "python",
   "pygments_lexer": "ipython3",
   "version": "3.12.4"
  }
 },
 "nbformat": 4,
 "nbformat_minor": 2
}
